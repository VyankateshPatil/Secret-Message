{
 "cells": [
  {
   "cell_type": "code",
   "execution_count": 47,
   "id": "d83a8666",
   "metadata": {},
   "outputs": [
    {
     "name": "stdout",
     "output_type": "stream",
     "text": [
      "Enter a Massage : hi how are you?\n",
      "original massage : hi how are you?\n",
      "encrypted massage : *ew*[kwI}bwv[q/\n",
      "encrypted massage : *ew*[kwI}bwv[q/\n",
      "original massage : hi how are you?\n"
     ]
    }
   ],
   "source": [
    "import random\n",
    "import string\n",
    "\n",
    "chars = ' ' + string.punctuation + string.digits + string.ascii_letters\n",
    "chars = list(chars)\n",
    "\n",
    "secret_char = chars.copy()\n",
    "\n",
    "random.shuffle(secret_char)\n",
    "\n",
    "\n",
    "#encrypt\n",
    "massage = input('Enter a Massage : ')\n",
    "\n",
    "def encrypt_massage(x):\n",
    "    encrypt_text = ''\n",
    "    for i in x:\n",
    "        index = chars.index(i)\n",
    "        encrypt_text += secret_char[index]\n",
    "    return encrypt_text\n",
    "\n",
    "encrypted_massage = encrypt_massage(massage)\n",
    "    \n",
    "print(f'original massage : {massage}')\n",
    "print(f'encrypted massage : {encrypted_massage}')\n",
    "\n",
    "#decrypt\n",
    "coded_text = encrypted_massage\n",
    "\n",
    "def decrypt_massage(y):\n",
    "    decrypt_text = ''\n",
    "    for i in y:\n",
    "        index = secret_char.index(i)\n",
    "        decrypt_text += chars[index]\n",
    "    return decrypt_text\n",
    "\n",
    "decrypted_massage = decrypt_massage(coded_text)\n",
    "    \n",
    "print(f'encrypted massage : {coded_text}')\n",
    "print(f'original massage : {decrypted_massage}')\n",
    "\n"
   ]
  },
  {
   "cell_type": "code",
   "execution_count": null,
   "id": "2315c57b",
   "metadata": {},
   "outputs": [],
   "source": []
  }
 ],
 "metadata": {
  "kernelspec": {
   "display_name": "Python 3 (ipykernel)",
   "language": "python",
   "name": "python3"
  },
  "language_info": {
   "codemirror_mode": {
    "name": "ipython",
    "version": 3
   },
   "file_extension": ".py",
   "mimetype": "text/x-python",
   "name": "python",
   "nbconvert_exporter": "python",
   "pygments_lexer": "ipython3",
   "version": "3.9.7"
  }
 },
 "nbformat": 4,
 "nbformat_minor": 5
}
